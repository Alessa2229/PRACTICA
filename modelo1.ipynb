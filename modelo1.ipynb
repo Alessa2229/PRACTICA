{
 "cells": [
  {
   "cell_type": "code",
   "execution_count": 1,
   "id": "efbd8e58",
   "metadata": {},
   "outputs": [],
   "source": [
    "#load libraries\n",
    "import sklearn\n",
    "import pandas as pd \n",
    "import numpy as np \n",
    "\n",
    "from sklearn.model_selection import train_test_split\n",
    "from sklearn.metrics import mean_squared_error, r2_score"
   ]
  },
  {
   "cell_type": "code",
   "execution_count": null,
   "id": "6af4e7a0",
   "metadata": {},
   "outputs": [
    {
     "name": "stdout",
     "output_type": "stream",
     "text": [
      "   StudyTimeWeekly  Absences  Tutoring  ParentalSupport  Extracurricular  \\\n",
      "0        19.833723         7         1                2                0   \n",
      "1        15.408756         0         0                1                0   \n",
      "2         4.210570        26         0                2                0   \n",
      "3        10.028829        14         0                3                1   \n",
      "4         4.672495        17         1                3                0   \n",
      "\n",
      "        GPA  \n",
      "0  2.929196  \n",
      "1  3.042915  \n",
      "2  0.112602  \n",
      "3  2.054218  \n",
      "4  1.288061  \n",
      "Mean Squared Error: 0.05065310760828915\n",
      "R-squared: 0.9387457856313737\n"
     ]
    }
   ],
   "source": [
    "import sklearn\n",
    "import pandas as pd\n",
    "import numpy as np\n",
    "from sklearn.model_selection import train_test_split\n",
    "from sklearn.linear_model import LinearRegression\n",
    "from sklearn.metrics import mean_squared_error, r2_score\n",
    "\n",
    "df=pd.read_csv('data.csv')\n",
    "df = df.drop(columns=[\"Age\", \"StudentID\",\"Gender\",\"Ethnicity\",\"ParentalEducation\",\"Sports\",\"Music\",\"Volunteering\",\"GradeClass\"])\n",
    "print(df.head())\n",
    "\n",
    "y=df['GPA']\n",
    "x=df.drop('GPA',axis=1)\n",
    "\n",
    "x_train, x_test, y_train, y_test = train_test_split(x, y, test_size=0.2, random_state=42)\n",
    "\n",
    "model= LinearRegression()      #CAMBIAR\n",
    "model.fit(x_train, y_train)\n",
    "\n",
    "y_pred = model.predict(x_test)\n",
    "\n",
    "mse = mean_squared_error(y_test, y_pred)\n",
    "r2 = r2_score(y_test, y_pred)\n",
    "\n",
    "print(\"Mean Squared Error:\", mse)\n",
    "print(\"R-squared:\", r2)"
   ]
  }
 ],
 "metadata": {
  "kernelspec": {
   "display_name": "Python 3",
   "language": "python",
   "name": "python3"
  },
  "language_info": {
   "codemirror_mode": {
    "name": "ipython",
    "version": 3
   },
   "file_extension": ".py",
   "mimetype": "text/x-python",
   "name": "python",
   "nbconvert_exporter": "python",
   "pygments_lexer": "ipython3",
   "version": "3.13.7"
  }
 },
 "nbformat": 4,
 "nbformat_minor": 5
}
